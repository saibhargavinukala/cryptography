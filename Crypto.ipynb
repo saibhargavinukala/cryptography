{
  "nbformat": 4,
  "nbformat_minor": 0,
  "metadata": {
    "colab": {
      "provenance": [],
      "include_colab_link": true
    },
    "kernelspec": {
      "name": "python3",
      "display_name": "Python 3"
    },
    "language_info": {
      "name": "python"
    }
  },
  "cells": [
    {
      "cell_type": "markdown",
      "metadata": {
        "id": "view-in-github",
        "colab_type": "text"
      },
      "source": [
        "<a href=\"https://colab.research.google.com/github/saibhargavinukala/cryptography/blob/main/Crypto.ipynb\" target=\"_parent\"><img src=\"https://colab.research.google.com/assets/colab-badge.svg\" alt=\"Open In Colab\"/></a>"
      ]
    },
    {
      "cell_type": "markdown",
      "source": [
        "Columnar Transportation"
      ],
      "metadata": {
        "id": "15NLXdl2q8HS"
      }
    },
    {
      "cell_type": "code",
      "execution_count": null,
      "metadata": {
        "colab": {
          "base_uri": "https://localhost:8080/"
        },
        "id": "pQ3AfyvXq67J",
        "outputId": "087f1f25-21a8-4c86-d210-19ad9a8dbb94"
      },
      "outputs": [
        {
          "output_type": "stream",
          "name": "stdout",
          "text": [
            "Encrypted: rgypa_yr_tp_coh\n",
            "Decrypted: cryptography\n"
          ]
        }
      ],
      "source": [
        "def ct_encrypt(text, key):\n",
        "    columns = len(key)\n",
        "    while len(text) % columns != 0:\n",
        "        text += '_'\n",
        "    grid = ['' for _ in range(columns)]\n",
        "    for i, char in enumerate(text):\n",
        "        grid[i % columns] += char\n",
        "    sorted_key = sorted((k, i) for i, k in enumerate(key))\n",
        "    result = ''.join(grid[index] for _, index in sorted_key)\n",
        "    return result\n",
        "\n",
        "def ct_decrypt(ciphertext, key):\n",
        "    columns = len(key)\n",
        "    rows = len(ciphertext) // columns\n",
        "    grid = ['' for _ in range(columns)]\n",
        "    sorted_key = sorted((k, i) for i, k in enumerate(key))\n",
        "    idx = 0\n",
        "    for _, index in sorted_key:\n",
        "        grid[index] = ciphertext[idx:idx + rows]\n",
        "        idx += rows\n",
        "    result = ''.join(grid[i % columns][i // columns] for i in range(len(ciphertext)))\n",
        "    result = result.rstrip('_')\n",
        "    return result\n",
        "\n",
        "plaintext = \"cryptography\"\n",
        "key = \"51324\"\n",
        "encrypted_text = ct_encrypt(plaintext, key)\n",
        "decrypted_text = ct_decrypt(encrypted_text, key)\n",
        "\n",
        "print(f\"Encrypted: {encrypted_text}\")\n",
        "print(f\"Decrypted: {decrypted_text}\")\n"
      ]
    },
    {
      "cell_type": "markdown",
      "source": [
        "Ceaser Cipher"
      ],
      "metadata": {
        "id": "2HlpZoI3rknk"
      }
    },
    {
      "cell_type": "code",
      "source": [
        "def caesar_cipher(msg, shift):\n",
        "    result = \"\"\n",
        "    for char in msg:\n",
        "        if char.isalpha():\n",
        "            shift_base = 65 if char.isupper() else 97\n",
        "            result += chr((ord(char) - shift_base + shift) % 26 + shift_base)\n",
        "        else:\n",
        "            result += char\n",
        "    return result\n",
        "\n",
        "def caesar_decipher(ciphertext, shift):\n",
        "    return caesar_cipher(ciphertext, -shift)\n",
        "\n",
        "plaintext = \"HELLO WORLD\"\n",
        "shift = 3\n",
        "encrypted_text = caesar_cipher(plaintext, shift)\n",
        "decrypted_text = caesar_decipher(encrypted_text, shift)\n",
        "\n",
        "print(f\"Encrypted: {encrypted_text}\")\n",
        "print(f\"Decrypted: {decrypted_text}\")\n"
      ],
      "metadata": {
        "colab": {
          "base_uri": "https://localhost:8080/"
        },
        "id": "95encDF_rkMi",
        "outputId": "20a08896-04b4-40e6-ad72-7939e74529b5"
      },
      "execution_count": null,
      "outputs": [
        {
          "output_type": "stream",
          "name": "stdout",
          "text": [
            "Encrypted: KHOOR ZRUOG\n",
            "Decrypted: HELLO WORLD\n"
          ]
        }
      ]
    },
    {
      "cell_type": "markdown",
      "source": [
        "AES"
      ],
      "metadata": {
        "id": "dmRaz0_1sryT"
      }
    },
    {
      "cell_type": "code",
      "source": [
        "! pip install pycryptodome\n",
        "\n",
        "from Crypto.Cipher import AES\n",
        "from Crypto.Util.Padding import pad, unpad\n",
        "\n",
        "def aes_encrypt(text, key):\n",
        "    cipher = AES.new(key, AES.MODE_ECB)\n",
        "    padded_text = pad(text.encode(), AES.block_size)\n",
        "    return cipher.encrypt(padded_text)\n",
        "\n",
        "def aes_decrypt(encrypted_text, key):\n",
        "    cipher = AES.new(key, AES.MODE_ECB)\n",
        "    decrypted_text = unpad(cipher.decrypt(encrypted_text), AES.block_size)\n",
        "    return decrypted_text.decode()\n",
        "\n",
        "key = b'sixteen byte key'\n",
        "text = \"Hello, AES!\"\n",
        "encrypted_text = aes_encrypt(text, key)\n",
        "decrypted_text = aes_decrypt(encrypted_text, key)\n",
        "\n",
        "print(f\"Encrypted: {encrypted_text}\")\n",
        "print(f\": {decrypted_text}\")\n"
      ],
      "metadata": {
        "colab": {
          "base_uri": "https://localhost:8080/"
        },
        "id": "-Jc5q2s_svdo",
        "outputId": "8778f5d0-efb3-4ac2-9592-8b5cef24b3a4"
      },
      "execution_count": null,
      "outputs": [
        {
          "output_type": "stream",
          "name": "stdout",
          "text": [
            "Collecting pycryptodome\n",
            "  Downloading pycryptodome-3.21.0-cp36-abi3-manylinux_2_17_x86_64.manylinux2014_x86_64.whl.metadata (3.4 kB)\n",
            "Downloading pycryptodome-3.21.0-cp36-abi3-manylinux_2_17_x86_64.manylinux2014_x86_64.whl (2.3 MB)\n",
            "\u001b[?25l   \u001b[90m━━━━━━━━━━━━━━━━━━━━━━━━━━━━━━━━━━━━━━━━\u001b[0m \u001b[32m0.0/2.3 MB\u001b[0m \u001b[31m?\u001b[0m eta \u001b[36m-:--:--\u001b[0m\r\u001b[2K   \u001b[91m━━━━━\u001b[0m\u001b[90m╺\u001b[0m\u001b[90m━━━━━━━━━━━━━━━━━━━━━━━━━━━━━━━━━━\u001b[0m \u001b[32m0.3/2.3 MB\u001b[0m \u001b[31m10.2 MB/s\u001b[0m eta \u001b[36m0:00:01\u001b[0m\r\u001b[2K   \u001b[91m━━━━━━━━━━━━━━━━━━━━━━━━━━━━━━━━━━━━━━━\u001b[0m\u001b[91m╸\u001b[0m \u001b[32m2.3/2.3 MB\u001b[0m \u001b[31m39.9 MB/s\u001b[0m eta \u001b[36m0:00:01\u001b[0m\r\u001b[2K   \u001b[90m━━━━━━━━━━━━━━━━━━━━━━━━━━━━━━━━━━━━━━━━\u001b[0m \u001b[32m2.3/2.3 MB\u001b[0m \u001b[31m27.7 MB/s\u001b[0m eta \u001b[36m0:00:00\u001b[0m\n",
            "\u001b[?25hInstalling collected packages: pycryptodome\n",
            "Successfully installed pycryptodome-3.21.0\n",
            "Encrypted: b'\\xe4Q\\x8d\\xb1\\xe6\\x90\\x81\\xe0\\t\\x85\\xc3.j\\xe6Y\\x95'\n",
            ": Hello, AES!\n"
          ]
        }
      ]
    },
    {
      "cell_type": "markdown",
      "source": [
        "PlayFair Cipher"
      ],
      "metadata": {
        "id": "jpz9fOFQsVTe"
      }
    },
    {
      "cell_type": "code",
      "source": [
        "def playfair_cipher(text, key):\n",
        "    text = text.lower().replace(\" \", \"\")\n",
        "    if len(text) % 2 != 0:\n",
        "        text += 'x'\n",
        "\n",
        "    diagraphs = [text[i:i + 2] for i in range(0, len(text), 2)]\n",
        "    alphabet = 'abcdefghiklmnopqrstuvwxyz'\n",
        "    key = key.lower()\n",
        "    key = ''.join(sorted(set(key), key=lambda x: key.index(x)))\n",
        "    key += ''.join(sorted(set(alphabet) - set(key)))\n",
        "    key_matrix = [list(key[i:i + 5]) for i in range(0, len(key), 5)]\n",
        "\n",
        "    def search(matrix, char):\n",
        "        for row in range(5):\n",
        "            if char in matrix[row]:\n",
        "                return row, matrix[row].index(char)\n",
        "        return None\n",
        "\n",
        "    def encrypt_pair(matrix, char1, char2):\n",
        "        r1, c1 = search(matrix, char1)\n",
        "        r2, c2 = search(matrix, char2)\n",
        "        if r1 == r2:\n",
        "            return matrix[r1][(c1 + 1) % 5] + matrix[r1][(c2 + 1) % 5]\n",
        "        elif c1 == c2:\n",
        "            return matrix[(r1 + 1) % 5][c1] + matrix[(r2 + 1) % 5][c2]\n",
        "        else:\n",
        "            return matrix[r1][c2] + matrix[r2][c1]\n",
        "\n",
        "    def decrypt_pair(matrix, char1, char2):\n",
        "        r1, c1 = search(matrix, char1)\n",
        "        r2, c2 = search(matrix, char2)\n",
        "        if r1 == r2:\n",
        "            return matrix[r1][(c1 - 1) % 5] + matrix[r1][(c2 - 1) % 5]\n",
        "        elif c1 == c2:\n",
        "            return matrix[(r1 - 1) % 5][c1] + matrix[(r2 - 1) % 5][c2]\n",
        "        else:\n",
        "            return matrix[r1][c2] + matrix[r2][c1]\n",
        "\n",
        "    encrypted_text = ''.join(encrypt_pair(key_matrix, pair[0], pair[1]) for pair in diagraphs)\n",
        "    decrypted_diagraphs = [encrypted_text[i:i + 2] for i in range(0, len(encrypted_text), 2)]\n",
        "    decrypted_text = ''.join(decrypt_pair(key_matrix, pair[0], pair[1]) for pair in decrypted_diagraphs)\n",
        "\n",
        "    if decrypted_text.endswith('x') and len(decrypted_text) > 1:\n",
        "        decrypted_text = decrypted_text[:-1]\n",
        "\n",
        "    return encrypted_text, decrypted_text\n",
        "\n",
        "key = \"Monarchy\"\n",
        "text = \"instruments\"\n",
        "encrypted_text, decrypted_text = playfair_cipher(text, key)\n",
        "\n",
        "print(f\"Encrypted: {encrypted_text}\")\n",
        "print(f\"Decrypted: {decrypted_text}\")\n"
      ],
      "metadata": {
        "id": "c4MAiRt5swbq",
        "colab": {
          "base_uri": "https://localhost:8080/"
        },
        "outputId": "b87fdde6-1f21-496a-a5bb-e794dc2c2cd1"
      },
      "execution_count": null,
      "outputs": [
        {
          "output_type": "stream",
          "name": "stdout",
          "text": [
            "Encrypted: gatlmzclrqxa\n",
            "Decrypted: instruments\n"
          ]
        }
      ]
    },
    {
      "cell_type": "markdown",
      "source": [
        "RSA"
      ],
      "metadata": {
        "id": "u4FZ0f37A3Gf"
      }
    },
    {
      "cell_type": "code",
      "source": [
        "p, q = 61,53\n",
        "n = p * q\n",
        "phi = (p - 1) * (q - 1)\n",
        "e = 5\n",
        "from math import gcd\n",
        "while gcd(e, phi) != 1: e += 2\n",
        "d = pow(e, -1, phi)\n",
        "message = 42\n",
        "ciphertext = pow(message, e, n)\n",
        "plaintext = pow(ciphertext, d, n)\n",
        "print(f\"Public Key: ({e}, {n})\\nPrivate Key: ({d}, {n})\")\n",
        "print(f\"Encrypted Message: {ciphertext}\\nDecrypted Message: {plaintext}\")"
      ],
      "metadata": {
        "colab": {
          "base_uri": "https://localhost:8080/"
        },
        "id": "WqOJTR6nTUET",
        "outputId": "439cc0c0-d337-45f8-bc21-cd5b0f708b99"
      },
      "execution_count": null,
      "outputs": [
        {
          "output_type": "stream",
          "name": "stdout",
          "text": [
            "Public Key: (7, 3233)\n",
            "Private Key: (1783, 3233)\n",
            "7 3233\n",
            "1783 3233\n",
            "Encrypted Message: 240\n",
            "Decrypted Message: 42\n"
          ]
        }
      ]
    },
    {
      "cell_type": "markdown",
      "source": [
        "Diifie - Hellman\n"
      ],
      "metadata": {
        "id": "bZOo0FzDA8gP"
      }
    },
    {
      "cell_type": "code",
      "source": [
        "def power(a, b, p):\n",
        "  return pow(a, b, p)\n",
        "P, G, a, b = 23, 9, 4, 3\n",
        "x, y = power(G, a, P), power(G, b, P)\n",
        "print(\"Secret keys:\", power(y, a, P), power(x, b, P))\n",
        "print(\"Private keys:\", a, b)"
      ],
      "metadata": {
        "colab": {
          "base_uri": "https://localhost:8080/"
        },
        "id": "K8PwGggyUE2s",
        "outputId": "4de533f2-137a-4a50-b534-59af14e0cf54"
      },
      "execution_count": null,
      "outputs": [
        {
          "output_type": "stream",
          "name": "stdout",
          "text": [
            "Secret keys: 9 9\n",
            "Private keys: 4 3\n"
          ]
        }
      ]
    },
    {
      "cell_type": "markdown",
      "source": [
        "RC4"
      ],
      "metadata": {
        "id": "SwwitamuckMl"
      }
    },
    {
      "cell_type": "code",
      "source": [
        "def rc4(key, plaintext):\n",
        "    S = list(range(256))\n",
        "    j = 0\n",
        "    for i in range(256):\n",
        "        w =  ord(key[i % len(key)])\n",
        "        j = (j + S[i] + w) % 256\n",
        "        S[i], S[j] = S[j], S[i]\n",
        "    i = j = 0\n",
        "    keystream = []\n",
        "    for _ in range(len(plaintext)):\n",
        "        i = (i + 1) % 256\n",
        "        j = (j + S[i]) % 256\n",
        "        S[i], S[j] = S[j], S[i]\n",
        "        keystream.append(S[(S[i] + S[j]) % 256])\n",
        "    result = []\n",
        "    for c, k in zip(plaintext, keystream):\n",
        "        result.append(chr(ord(c) ^ k))\n",
        "    return ''.join(result)\n",
        "key = \"simplekey\"\n",
        "plaintext = \"Hello,RC4!\"\n",
        "ciphertext = rc4(key, plaintext)\n",
        "print(\"Ciphertext:\", ciphertext)\n",
        "decrypted = rc4(key, ciphertext)\n",
        "print(\"Decrypted:\", decrypted)"
      ],
      "metadata": {
        "id": "lBxvpyEPYmGX",
        "colab": {
          "base_uri": "https://localhost:8080/"
        },
        "outputId": "b89fb27e-32c9-43a2-b4bd-991da73183a1"
      },
      "execution_count": null,
      "outputs": [
        {
          "output_type": "stream",
          "name": "stdout",
          "text": [
            "Ciphertext: ÂJö,SìU\n",
            "Decrypted: Hello,RC4!\n"
          ]
        }
      ]
    },
    {
      "cell_type": "markdown",
      "source": [
        "SHA-3\n"
      ],
      "metadata": {
        "id": "_GqwuBixdBXQ"
      }
    },
    {
      "cell_type": "code",
      "source": [
        "import hashlib\n",
        "def simple_sha3(input_string):\n",
        "    sha3_hash = hashlib.sha3_256()\n",
        "    sha3_hash.update(input_string.encode('utf-8'))\n",
        "    return sha3_hash.hexdigest()\n",
        "input_text = \"Hello, SHA-3!\"\n",
        "hashed_output = simple_sha3(input_text)\n",
        "print(\"Input:\", input_text)\n",
        "print(\"SHA-3 Hash:\", hashed_output)"
      ],
      "metadata": {
        "colab": {
          "base_uri": "https://localhost:8080/"
        },
        "id": "hjVRQlD4dC3V",
        "outputId": "a838e6a9-c4f9-41f3-cd91-35040c4887bb"
      },
      "execution_count": null,
      "outputs": [
        {
          "output_type": "stream",
          "name": "stdout",
          "text": [
            "Input: Hello, SHA-3!\n",
            "SHA-3 Hash: ce4ab23ba79eba9ba2531220a647080bed52619b752df89a0a67fd5973d667f1\n"
          ]
        }
      ]
    },
    {
      "cell_type": "markdown",
      "source": [
        "HMAC"
      ],
      "metadata": {
        "id": "ESVdyexlBaXA"
      }
    },
    {
      "cell_type": "code",
      "source": [
        "import hmac\n",
        "import hashlib\n",
        "def generate_hmac(key, message):\n",
        "    hmac_obj = hmac.new(key.encode(), message.encode(), hashlib.sha256)\n",
        "    return hmac_obj.hexdigest()\n",
        "key = \"48\"\n",
        "message = \"Hello, HMAC!\"\n",
        "hmac_output = generate_hmac(key, message)\n",
        "print(\"Message:\", message)\n",
        "print(\"HMAC:\", hmac_output)"
      ],
      "metadata": {
        "colab": {
          "base_uri": "https://localhost:8080/"
        },
        "id": "qC0mA7GteMwe",
        "outputId": "85cdea91-057b-4556-8f36-4abac3b4c69c"
      },
      "execution_count": null,
      "outputs": [
        {
          "output_type": "stream",
          "name": "stdout",
          "text": [
            "Message: Hello, HMAC!\n",
            "HMAC: 94ad79e245f7b3b0bc3fa1c20dece33f3cfc02777a36d58f164e407506369639\n"
          ]
        }
      ]
    },
    {
      "cell_type": "markdown",
      "source": [
        "DSS\n"
      ],
      "metadata": {
        "id": "7-OV4H8idcCw"
      }
    },
    {
      "cell_type": "code",
      "source": [
        "from cryptography.hazmat.primitives.asymmetric import dsa\n",
        "from cryptography.hazmat.primitives import hashes\n",
        "private_key = dsa.generate_private_key(key_size=2048)\n",
        "public_key = private_key.public_key()\n",
        "message = b\"Hello, DSS!\"\n",
        "\n",
        "signature = private_key.sign(\n",
        "    message,\n",
        "    hashes.SHA256()\n",
        ")\n",
        "\n",
        "print(\"Digital Signature:\", signature)\n",
        "\n",
        "try:\n",
        "    public_key.verify(\n",
        "        signature,\n",
        "        message,\n",
        "        hashes.SHA256()\n",
        "    )\n",
        "    print(\"Signature is valid.\")\n",
        "except Exception as e:\n",
        "    print(\"Signature verification failed:\", str(e))"
      ],
      "metadata": {
        "colab": {
          "base_uri": "https://localhost:8080/"
        },
        "id": "rBkEadhjddNh",
        "outputId": "d1c4e864-4031-4bf8-ceb7-d4db010cc8d8"
      },
      "execution_count": null,
      "outputs": [
        {
          "output_type": "stream",
          "name": "stdout",
          "text": [
            "Digital Signature: b'0F\\x02!\\x00\\xc3\\x8f\\xeaV>\\xbbF\\x8b:\\x1b\\x93\\xc7\\xc5\\x04\\xdd\\x93\\xc0\\x07\\x0c\\xeex\\xbd\\x94-\\xf9t\\xfc\\x05\\xf8\\\\\\xaf\"\\x02!\\x00\\x85R\\x0b\\x17GO\\n\\x8b\\xaa~G\\xd1\\x04\\x1eg\\x8f\\x1e\\x16o\\x08Ux6\\xb5e\\xe0\\xbd\\ts\\x10GX'\n",
            "Signature is valid.\n"
          ]
        }
      ]
    }
  ]
}